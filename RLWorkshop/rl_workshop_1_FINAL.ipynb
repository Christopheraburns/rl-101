{
 "cells": [
  {
   "cell_type": "markdown",
   "metadata": {},
   "source": [
    "# <center> <u>Reinforcement learning</u>:: Q-learning style</center>\n",
    "\n",
    "<h1><center>What will you do in this Notebook?</center></h1>\n",
    "<br>\n",
    "\n",
    "\n",
    "### 1.) You will learn what Q-learning is \n",
    "-- (hint, it's not really <i>learning</i> but \"Q-Lookup-Table\" doesn't have the same ring to it!)\n",
    "\n",
    "### 2.) You will learn about the \"Gym\" \n",
    "-- <a href=\"https://github.com/openai/gym\">Gym</a> is a toolkit for developing and comparing reinforcement learning algorithms. <br/>\n",
    "-- Built by AI research company <a href=\"https://openai.com/\">OpenAI</a> <br/>\n",
    "-- There are many, many toolkits available but this notebook only uses Gym.\n",
    "\n",
    "### 3.) You will train an Agent to find the optimal solution to the Gym - Taxi Environment\n",
    "-- There will be more details on the Taxi environment later, but here's a peek at the environment in all of it's ASCII glory:\n",
    "<center><img src=\".\\img\\taxi-v2.png\" alt=\"TaxiV2\"/>\n"
   ]
  },
  {
   "cell_type": "markdown",
   "metadata": {},
   "source": [
    "\n",
    "<h1><center>Q-Learning </center></h1>\n",
    "\n",
    "<p>The <b>Q</b> stands for quality.  Or, what is the <i><b>quality of the reward signal<b></i> for being in a particular state.  Recall that our agent's goal is <b><i>Maximize the reward signal</i></b> (the Reward Hypothesis).  Each state in the environment will have a reward attached to it.  This reward can be positive or negative.</p> \n",
    "\n",
    "\n",
    "<p> A few more items of note before we jump into Q-Learning</p>\n",
    "- Agents are treated like cattle - not pets.  Your agent will <i>\"die\"</i> many deaths as it explores the environment.\n",
    "    <br/>\n",
    "- Each time an agent \"dies\" or completes the task (Maximize the reward signal) it is called an <b>Episode</b>.\n",
    "    <br/>\n",
    "- Q-Learning is the oldest, most basic form of RL and belongs to what is known as <b>Tabular Solution Methods</b>\n",
    "    <br/>\n",
    "- <i>Many</i> timesteps make up an episode.  The number of timesteps per episode will vary. Although it is called a timestep there is no specific or set amout of \"wall time\" associated with each timestep.  Think of a timestep as one complete cycle of: <br/>\n",
    ">  - the agent makes an <b>Observation</b> - which means it receives the state of the observable portion of the environment written as: <img src=\".\\img\\symbols\\state_at_timestep_t.png\" alt=\"stateATt\" height=\"87\" width=\"92\" /> <center>(State at timestep 't')</center><br/>\n",
    ">  - based on the Observed state the agent selects a <b>discrete action</b> from the <b>Action space</b>\n",
    "> >  - A <i><b>discrete</b></i> action means the action you select is not dependent on any other actions\n",
    "> >  - the <i><b>Action space</b></i> is a finite list of actions your agent can choose from - this list of actions is managed\n",
    "by the environment.  Sorry, no <a href=\"http://www.startrek.com/database_article/kobayashi-maru\">Kobayashi Maru</a> scenarios allowed in RL.\n",
    "<img src=\".\\img\\symbols\\action_at_timestep_t.png\" alt=\"actionATt\" height=\"87\" width=\"93\"/><center>(Action at timestep 't')</center>\n",
    ">  - The agent takes the selected action and receives the <b>reward</b> signal associated with that action in that state. Written as: <img src=\".\\img\\symbols\\reward_at_time_t.png\" alt=\"rewardATt\" height=\"87\" width=\"93\"/><center>(Reward at timestep 't')</center><br/>\n",
    ">  - These three steps form the basis for The agent-environment interaction<br/><img src=\".\\img\\agent-enviro-interaction.png\" alt=\"agent-enviro\"/>\n",
    "- In Q-Learning scenarios the agent will attempt EVERY discrete action from the action space at each state of the environment to form what is known as the Q-table. \n",
    " "
   ]
  },
  {
   "cell_type": "markdown",
   "metadata": {},
   "source": [
    "<h1><center>Q-Learning - a codeless example </center></h1>\n",
    "\n",
    "<p>Given the environment in the image below - a simple 5X5 grid world (just like Taxi-v2).  Our agent must reach the treasure without entering any of the danger zones denoted by the digi-monsters.<p>\n",
    "- Our agent can only move 1 tile per time step (This is a discrete action)\n",
    "- Our agent can only move Up, Down, Left or Right (this is the Action Space)\n",
    "- The danger zones are stationary and remain in the same tiles for all episodes\n",
    "- If our agent enters a danger zone, the agent receives a reward of -100 and the episode ends (in a \"loss\")\n",
    "- The agent receives a -1 reward for each timestep. (this encourages the agent to take the shortest path)\n",
    "- The agent receives a reward of +100 when it reaches the treasure and the episode ends (in a \"win\")\n",
    "<br/>\n",
    "<br/>\n",
    "<center><img src=\".\\img\\enviro1.png\" alt=\"enviro1\" height=\"725\" width=\"692\"/></center>\n",
    "<br/>    \n",
    "Over many episodes and timesteps of \"learning\" the agent will explore the reward signal for each action at each state.  \n",
    "Upon completion of this \"training\", the agent will know the <b>reward signal</b>  for each state in the environment, shown in the image below.\n",
    "<br/>\n",
    "<br/>\n",
    "<center><img src=\".\\img\\enviro1_reward.png\" alt=\"enviro1reward\" height=\"725\" width=\"692\"/><center>\n",
    "<br/>\n",
    "    \n",
    "<p>Recall that Reinforcement learning is meant to <b><span style=\"background-color: #FFFF00\">MAXIMIZE</span></b> the <b>reward signal</b> not just determine the <b>reward signal</b> for each state of the environment. Knowing each states reward signal and choosing a route to the treasure that will MAXIMIZE the reward are two different things.</p>\n",
    "\n",
    "This is where the Q-table can help us. The Q-table allows to calculate the <b>maximum expected future reward</b> by storing the reward for each action in each state (or tile).\n",
    "\n",
    ">   The image below represents all available actions in each state of our environment.  Red Xs represent moves that are disallowed and are the boudaries to the environment.\n",
    "<center><img src=\".\\img\\enviro1_actionspace.png\" alt=\"enviro1actionspace\" height=\"725\" width=\"692\"/><center>\n",
    "<br/>\n",
    "<br/>"
   ]
  },
  {
   "cell_type": "markdown",
   "metadata": {},
   "source": [
    "- The Q-table will consist of ONE row for each state in the environment.  \n",
    "- Since our example is a 5X5 gridworld, and the non-agent objects (treasure, digi-monsters) do not move between episodes, our Q-table will have (5 x 5 = 25) rows.\n",
    "- The Q-table will have a column for each action in the action space.  For our example then, our Q-table will have 4 columns.\n",
    "\n",
    "Here is what two rows from our Q-table would look like after the Q-Learing algorithm has fully populated them:\n",
    "<br/>\n",
    "<img src=\".\\img\\state_to_q_table_samples.png\" alt=\"stateToQtable\"/>\n",
    "\n",
    "\n",
    "These are simply two states sampled from our treasure hunt environment. An actual qTable, once fully populated will have entries for each state in the environment."
   ]
  },
  {
   "cell_type": "markdown",
   "metadata": {},
   "source": [
    "<h2>The Q-learning <i>Algorithm</i></h2>\n",
    "<p>Now that you have had an introduction to the Q-table, we will move on to the Q-learning <b>algorithm</b>. This algorithm contains the steps that we will use to populate the values in the Q-table.</p>  \n",
    "\n",
    "- When our training begins we initialize an empty Q-table.  \n",
    "- Each entry in the Q-table is set to zero.\n",
    "<br/>\n",
    "<b>Now we begin the agent-environment interaction:</b>\n",
    ">  - Our agent makes an observation and chooses an action\n",
    ">  - The agent takes the action\n",
    ">  - Our agent receives the reward\n",
    ">  - The Q-table is updated to refelect the reward received at the respective state predicated on the respective action\n",
    "\n",
    "<h2>The Q-learning Algorithm:</h2>\n",
    "<img src=\".\\img\\symbols\\q_action_value_function.png\" alt=\"actvalfunc\"/>\n",
    "<br/>\n",
    "<h2>The Q-learning Algorithm explained:</h2>\n",
    "<img src=\".\\img\\q_algo_explained.png\" alt=\"qalgoExpl\"/>\n",
    "\n",
    "All the elements of this algorithm should be familiar except one.  We have introduced a \"discount\" to our equation.\n",
    "\n",
    "<img src=\".\\img\\symbols\\gamma.png\" alt=\"gamma\" height=\"75\" width=\"75\"/>\n",
    "\n",
    "<p>The discount rate determines the <i>present</i> value of <i>future</i> rewards. a reward received <i>k</i> timesteps into the future is worth only: $\\gamma^{k-1}$\n",
    "times what it would be worth if it were received immediately."
   ]
  },
  {
   "cell_type": "markdown",
   "metadata": {},
   "source": [
    "<h3>Greedy Epsilon and the Bellman Equation</h3>\n",
    "\n",
    "Let's talk about two more components of Q-learning (and many other forms of RL) and then we will get to some code!\n",
    "\n",
    "<b>Greedy Epsilon </b>\n",
    "\n",
    "Greedy epsilon is the name given to the concept of balancing Exploration vs Exploitation.\n",
    "\n",
    "If our agent knows the value of taking an action in a given state, it can <b>EXPLOIT</b> that knowledge.  But what if our agent does not know the value of taking an action at a given state?  Then it must <b>EXPLORE</b>.\n",
    "\n",
    "We call it <i>greedy</i> because we want to choose the option that maximizes our reward signal.\n",
    "\n",
    "We use $\\epsilon$ (epsilon) to represent the value because $\\epsilon$ is a small positive infinitesimal quantity, whose limit is usually taken as $\\epsilon\\to0$ and our $\\epsilon$ value is incremented between 0 and 1.\n",
    "\n",
    "We we start training, we being with a high $\\epsilon$ to encourage exploration.  As more and more of the environment is explored we reduce $\\epsilon$ and begin to exploit where advantageous.\n",
    "\n",
    "<img src=\".\\img\\expvsexp.png\" alt=\"expvsexp\"/>\n",
    "<br/>\n",
    "\n",
    "<b> The Bellman Equation </b>\n",
    "\n",
    "The Bellman Equation is the means by which we update existing values in our Q-table.  Recall that the table is initialized with zeros.  Also recall that the reward at a given state is predicated on current AND future actions of our agent.\n",
    "\n",
    "<img src=\".\\img\\symbols\\bellmaneq.png\" alt=\"bellman\"/>\n",
    "<br/>\n",
    "The Bellman equation explained:\n",
    "<img src=\".\\img\\bellmanexplained.png\" alt=\"bellmanexp\"/>"
   ]
  },
  {
   "cell_type": "markdown",
   "metadata": {},
   "source": [
    "Finally - some code!  Lets import our libraries:"
   ]
  },
  {
   "cell_type": "code",
   "execution_count": 36,
   "metadata": {},
   "outputs": [],
   "source": [
    "import gym                           # The toolkit for developing and comparing reinforcement learning algorithms. \n",
    "import numpy as np                   # Matrix Multiplication library (our Q-table is a matrix)\n",
    "import sys                           # needed to cleanup the output statements from training\n",
    "import random                        # needed to generate random numbers\n",
    "import matplotlib.pyplot as plt      # Needed for graphing our agents training progress"
   ]
  },
  {
   "cell_type": "markdown",
   "metadata": {},
   "source": [
    "<h3>Gym</h3>\n",
    "\n",
    "- The Gym library greatly simplifies the process of developing RL algorithms.  \n",
    "- In this notebook we will work with the built-in \"toy-text\" environment called \"Taxi-V2\".  \n",
    "- Gym has many built in libraries and is fully open sourced so it can be extended (to use Atari ROMs as environments for example)\n",
    "\n",
    "- Gym maps our action commands to the movements of the agent within the gym environment.  Taxi-v2 is a small action space, but  environments can have many more than 4 discrete actions.\n",
    "- Gym provides the ability to pick a random action\n",
    "- Gym provides Episode management \n",
    "- Gym provides state management\n",
    "- Gym tells us if our agent as \"solved\" the environment or if it has expired\n",
    "- It is highly recommended you familiarize yourself with the <a href=\"https://github.com/openai/gym/blob/master/gym/envs/toy_text/taxi.py\">sourcecode</a> for the environment you are working with.  It is there you will find the discrete actions available, rendering and reward details, etc. "
   ]
  },
  {
   "cell_type": "code",
   "execution_count": 12,
   "metadata": {},
   "outputs": [
    {
     "name": "stdout",
     "output_type": "stream",
     "text": [
      "+---------+\n",
      "|R: | : :\u001b[35mG\u001b[0m|\n",
      "| : : : : |\n",
      "| : :\u001b[43m \u001b[0m: : |\n",
      "| | : | : |\n",
      "|\u001b[34;1mY\u001b[0m| : |B: |\n",
      "+---------+\n",
      "\n"
     ]
    }
   ],
   "source": [
    "# Instantiate and prepare the Environment\n",
    "env = gym.make(\"Taxi-v2\")\n",
    "\n",
    "# If you would like to see all of Gym's available environments you can uncomment and run these two lines:\n",
    "#from gym import envs\n",
    "#for enviro in envs.registry.all(): print(enviro)\n",
    "\n",
    "# Store action space and state_size.\n",
    "action_size = env.action_space.n\n",
    "state_size = env.observation_space.n\n",
    "\n",
    "# Let's take a look at our environment:\n",
    "env.render()\n",
    "\n",
    "# Note that Taxi-v2 is a simple ascii based environment.  Some environments and toolkits may require graphics capabilities"
   ]
  },
  {
   "cell_type": "code",
   "execution_count": 13,
   "metadata": {
    "scrolled": true
   },
   "outputs": [
    {
     "name": "stdout",
     "output_type": "stream",
     "text": [
      "Blue Letter = Passenger\n",
      "Magenta Letter = destination\n",
      "Yellow = empty taxi\n",
      "Green = full taxi\n",
      "Letters = all possible pick up and drop off locations\n"
     ]
    }
   ],
   "source": [
    "# Map Key\n",
    "\n",
    "print(\"Blue Letter = Passenger\")\n",
    "print(\"Magenta Letter = destination\")\n",
    "print(\"Yellow = empty taxi\")\n",
    "print(\"Green = full taxi\")\n",
    "print(\"Letters = all possible pick up and drop off locations\")"
   ]
  },
  {
   "cell_type": "code",
   "execution_count": 37,
   "metadata": {},
   "outputs": [
    {
     "name": "stdout",
     "output_type": "stream",
     "text": [
      "Q-table initialized with 500 states and 6 discrete actions available per state\n"
     ]
    }
   ],
   "source": [
    "# Initialize our empty Q-table\n",
    "qtable = np.zeros((state_size, action_size))\n",
    "print(\"Q-table initialized with {} states and {} discrete actions available per state\".format(state_size, action_size))"
   ]
  },
  {
   "cell_type": "markdown",
   "metadata": {},
   "source": [
    "Recall that our Qtable is a matrix with 1 row for each possible state, and 1 column for each discrete action\n",
    "<img src=\".\\img\\state_to_q_table_samples.png\" alt=\"stateToQtable\"/>"
   ]
  },
  {
   "cell_type": "markdown",
   "metadata": {},
   "source": [
    "If the taxi environment is a 5 x 5 [ascii] grid, why does our Q table have 500 states!!??\n",
    "\n",
    "- In our treasure hunting example above, the digi-monsters where stationary. We also made the assumption our agent would begin each episode in the same starting state.  \n",
    "\n",
    "<img src=\".\\img\\taxi_states.png\" alt=\"taxistates\"/>\n"
   ]
  },
  {
   "cell_type": "code",
   "execution_count": 17,
   "metadata": {},
   "outputs": [
    {
     "name": "stdout",
     "output_type": "stream",
     "text": [
      "+---------+\n",
      "|R: | : :\u001b[35mG\u001b[0m|\n",
      "| : : : : |\n",
      "| : :\u001b[43m \u001b[0m: : |\n",
      "| | : | : |\n",
      "|\u001b[34;1mY\u001b[0m| : |B: |\n",
      "+---------+\n",
      "\n"
     ]
    }
   ],
   "source": [
    "# lets take a look at a sample environment (it will look slightly different rendered in a notebook than at a console)\n",
    "env.render()\n",
    "\n",
    "# remember the meanings of the colors\n",
    "# where is the passenger?\n",
    "# where is the drop off point?"
   ]
  },
  {
   "cell_type": "code",
   "execution_count": 38,
   "metadata": {},
   "outputs": [],
   "source": [
    "# we need to set a few variables now in order to setup training for our agent\n",
    "\n",
    "total_train_episodes = 10000    # How many times do we attempt to train on the Taxi environment (known as an episode)\n",
    "total_test_episodes = 10        # Number of episodes to test our qtable (should only take a few to verify maximized reward)\n",
    "learning_rate = 0.7             # Learning rate for Bellman equation\n",
    "gamma = 0.618                   # Gamma rate for the Bellman equation\n",
    "max_steps = 100                 # How many steps do we limit each episode to\n",
    "current_steps = 0               # Holder for the current step of the current training episode\n",
    "total_reward = 0                # Holder for the Cumulative reward of the current episode\n",
    "\n",
    "# Exploration parameter\n",
    "epsilon = 1                     # Greedy Epsilon\n",
    "max_epsilon = 1                 # Maximum Epsilon value\n",
    "min_epsilon = 0.1               # Minimum epsilon value\n",
    "decay_rate = .001               # Amount to reduce epsilon value after each episode.\n",
    "\n",
    "# Some variables to help us review our agents training progress\n",
    "epsilontrackers = []            # List to hold each epsilon value change for future viewing\n",
    "explore_counter = 0             # Counter that increments with each choice to explore\n",
    "explore_tracker = []            # list to hold the decision to explore\n",
    "exploit_counter = 0             # Counter that increments with each choice to exploit\n",
    "exploit_tracker = []            # List to hold the decision to exploit"
   ]
  },
  {
   "cell_type": "code",
   "execution_count": 39,
   "metadata": {},
   "outputs": [
    {
     "name": "stdout",
     "output_type": "stream",
     "text": [
      "9751 of 10000 total episodes"
     ]
    }
   ],
   "source": [
    "# It's finally time to train\n",
    "\n",
    "# The agent-environment interaction:\n",
    "\n",
    "        # 1.) Make an Observation/ receive state information from the environment\n",
    "        # 2.) Choose an action predicated on the data within state and propensity to explore or exploit\n",
    "        # 3.) execute the action and receive the reward, update the qTable\n",
    "        \n",
    "for episode in range(total_train_episodes):\n",
    "    # Reset the environment\n",
    "    state = env.reset()\n",
    "    step = 0\n",
    "    done = False\n",
    "    for step in range(max_steps):\n",
    "        print(f\"\\r{episode} of {total_train_episodes} total episodes\", end=\"\")\n",
    "        sys.stdout.flush()\n",
    "        \n",
    "        # ************* Step One ***********************************************************************************\n",
    "        # Make an Observation/ receive state information from the environment **************************************\n",
    "        \n",
    "        # because we are within a for loop, the first (step one) observation\\state info has been established by the\n",
    "        # \"state = env.reset()\" code above, prior to entering this loop\n",
    "        \n",
    "        # **********************************************************************************************************\n",
    "        \n",
    "        \n",
    "        # ************* Step Two ***********************************************************************************\n",
    "        # Choose an action predicated on the data within state and propensity to explore or exploit ****************\n",
    "        \n",
    "        # 2-A.) First we create a random number between 0 and 1\n",
    "        exp_exp_tradeoff = random.uniform(0, 1)\n",
    "\n",
    "        # 2- B.) If the random number created above is greater than our current epsilon value -> we choose to exploit\n",
    "        # recall \"exploit\" means to be \"greedy\" and take the max value for this state from the Q-table\n",
    "        \n",
    "        # in the early timesteps the value of epsilon is very high - so this random number is unlikely to exceed epsilon\n",
    "        if exp_exp_tradeoff > epsilon:  \n",
    "            action = np.argmax(qtable[state, :])  # <-- If this option was chosen we have just exercised \"Greedy Epsilon\"\n",
    "            exploit_counter += 1\n",
    "        else: \n",
    "            action = env.action_space.sample()    # <-- If this was our choice then we --> explore\n",
    "            explore_counter += 1\n",
    "        \n",
    "        # Update our explore vs exploit trackers\n",
    "        explore_tracker.append(explore_counter)\n",
    "        exploit_tracker.append(exploit_counter)\n",
    "        # **********************************************************************************************************\n",
    "\n",
    "            \n",
    "        # *************  Step Three ********************************************************************************\n",
    "        # Take the action (a) and observe the outcome state(s') and reward (r) *************************************\n",
    "        new_state, reward, done, info = env.step(action)\n",
    "\n",
    "        # Probably the most important line of this example - our Bellman equation\n",
    "        # recall the equation -> Q(s,a):= Q(s,a) + lr [R(s,a) + gamma * max Q(s',a') - Q(s,a)]\n",
    "        qtable[state, action] = qtable[state, action] + learning_rate * (reward + gamma *np.max(qtable[new_state, :]) - qtable[\n",
    "                                                                                         state, action])\n",
    "        # **********************************************************************************************************\n",
    "        \n",
    "        \n",
    "        # ************* Step One ***********************************************************************************\n",
    "        # Make an Observation/ receive state information from the environment **************************************\n",
    "        # because we are in a for-loop, the following command can be considered part of Step One \n",
    "       \n",
    "        state = new_state  \n",
    "        # what was once the new or next state is now the current state and the agent-environment loop repeats\n",
    "        \n",
    "        # **********************************************************************************************************\n",
    "\n",
    "        # If done : finish episode\n",
    "        if done:\n",
    "            break\n",
    "\n",
    "    # capture the current epsilon\n",
    "    epsilontrackers.append(epsilon)\n",
    "\n",
    "    # Each new epsiode - reduce epsilon by our chosen decay rate\n",
    "    epsilon = min_epsilon + (max_epsilon - min_epsilon) * np.exp(-decay_rate * episode)\n",
    "\n",
    "print(\"Training complete! Disregard the episode counter above if it seems incorrect the notebook author has dubious python skills\")"
   ]
  },
  {
   "cell_type": "code",
   "execution_count": 41,
   "metadata": {},
   "outputs": [
    {
     "name": "stdout",
     "output_type": "stream",
     "text": [
      "+---------+\n",
      "|R: | : :\u001b[34;1mG\u001b[0m|\n",
      "| : : : : |\n",
      "| : : :\u001b[43m \u001b[0m: |\n",
      "| | : | : |\n",
      "|\u001b[35mY\u001b[0m| : |B: |\n",
      "+---------+\n",
      "\n",
      "+---------+\n",
      "|R: | : :\u001b[34;1mG\u001b[0m|\n",
      "| : : :\u001b[43m \u001b[0m: |\n",
      "| : : : : |\n",
      "| | : | : |\n",
      "|\u001b[35mY\u001b[0m| : |B: |\n",
      "+---------+\n",
      "  (North)\n",
      "+---------+\n",
      "|R: | : :\u001b[34;1mG\u001b[0m|\n",
      "| : : : :\u001b[43m \u001b[0m|\n",
      "| : : : : |\n",
      "| | : | : |\n",
      "|\u001b[35mY\u001b[0m| : |B: |\n",
      "+---------+\n",
      "  (East)\n",
      "+---------+\n",
      "|R: | : :\u001b[34;1m\u001b[43mG\u001b[0m\u001b[0m|\n",
      "| : : : : |\n",
      "| : : : : |\n",
      "| | : | : |\n",
      "|\u001b[35mY\u001b[0m| : |B: |\n",
      "+---------+\n",
      "  (North)\n",
      "+---------+\n",
      "|R: | : :\u001b[42mG\u001b[0m|\n",
      "| : : : : |\n",
      "| : : : : |\n",
      "| | : | : |\n",
      "|\u001b[35mY\u001b[0m| : |B: |\n",
      "+---------+\n",
      "  (Pickup)\n",
      "+---------+\n",
      "|R: | : :G|\n",
      "| : : : :\u001b[42m_\u001b[0m|\n",
      "| : : : : |\n",
      "| | : | : |\n",
      "|\u001b[35mY\u001b[0m| : |B: |\n",
      "+---------+\n",
      "  (South)\n",
      "+---------+\n",
      "|R: | : :G|\n",
      "| : : :\u001b[42m_\u001b[0m: |\n",
      "| : : : : |\n",
      "| | : | : |\n",
      "|\u001b[35mY\u001b[0m| : |B: |\n",
      "+---------+\n",
      "  (West)\n",
      "+---------+\n",
      "|R: | : :G|\n",
      "| : : : : |\n",
      "| : : :\u001b[42m_\u001b[0m: |\n",
      "| | : | : |\n",
      "|\u001b[35mY\u001b[0m| : |B: |\n",
      "+---------+\n",
      "  (South)\n",
      "+---------+\n",
      "|R: | : :G|\n",
      "| : : : : |\n",
      "| : :\u001b[42m_\u001b[0m: : |\n",
      "| | : | : |\n",
      "|\u001b[35mY\u001b[0m| : |B: |\n",
      "+---------+\n",
      "  (West)\n",
      "+---------+\n",
      "|R: | : :G|\n",
      "| : : : : |\n",
      "| :\u001b[42m_\u001b[0m: : : |\n",
      "| | : | : |\n",
      "|\u001b[35mY\u001b[0m| : |B: |\n",
      "+---------+\n",
      "  (West)\n",
      "+---------+\n",
      "|R: | : :G|\n",
      "| : : : : |\n",
      "|\u001b[42m_\u001b[0m: : : : |\n",
      "| | : | : |\n",
      "|\u001b[35mY\u001b[0m| : |B: |\n",
      "+---------+\n",
      "  (West)\n",
      "+---------+\n",
      "|R: | : :G|\n",
      "| : : : : |\n",
      "| : : : : |\n",
      "|\u001b[42m_\u001b[0m| : | : |\n",
      "|\u001b[35mY\u001b[0m| : |B: |\n",
      "+---------+\n",
      "  (South)\n",
      "+---------+\n",
      "|R: | : :G|\n",
      "| : : : : |\n",
      "| : : : : |\n",
      "| | : | : |\n",
      "|\u001b[35m\u001b[42mY\u001b[0m\u001b[0m| : |B: |\n",
      "+---------+\n",
      "  (South)\n",
      "Episode 0 complete!\n",
      "Completed in 12 steps with a reward of 8\n",
      "Episode 1 complete!\n",
      "Completed in 12 steps with a reward of 8\n",
      "Episode 2 complete!\n",
      "Completed in 8 steps with a reward of 12\n",
      "Episode 3 complete!\n",
      "Completed in 9 steps with a reward of 11\n",
      "Episode 4 complete!\n",
      "Completed in 13 steps with a reward of 7\n",
      "Episode 5 complete!\n",
      "Completed in 7 steps with a reward of 13\n",
      "Episode 6 complete!\n",
      "Completed in 11 steps with a reward of 9\n",
      "Episode 7 complete!\n",
      "Completed in 7 steps with a reward of 13\n",
      "Episode 8 complete!\n",
      "Completed in 9 steps with a reward of 11\n",
      "Episode 9 complete!\n",
      "Completed in 9 steps with a reward of 11\n",
      "\n",
      " All test episodes complete:\n",
      "Average number of steps per episode: 9.7 average reward [score]: 10.3\n"
     ]
    }
   ],
   "source": [
    "# Once training is complete we will run the agent through the environment to determine if it can maximize the reward.\n",
    "\n",
    "# We simply repeat the process we used to train, but rather than choosing to exploit or explore - we will use our qTable\n",
    "# to navigate the environment\n",
    "           \n",
    "rewards = []           # An array to store our cumulative rewards to determine average 'reward per episode'\n",
    "steps = []             # An array to store cumulative steps needed per episode to determine average 'steps per episode'  \n",
    "\n",
    "\n",
    "for episode in range(total_test_episodes):\n",
    "    state = env.reset()  # Always start with a fresh environment (we are clearing state data here)\n",
    "    step = 0             # reset epsiode step counter\n",
    "    done = False         # reset the episode over (done) flag\n",
    "    total_rewards = 0    # reset the episode cumulative reward counter\n",
    "\n",
    "    # The agent-environment interaction:\n",
    "\n",
    "        # 1.) Make an Observation/ receive state information from the environment\n",
    "        # 2.) Choose an action predicated on the data within state and propensity to explore or exploit\n",
    "        # 3.) execute the action and receive the reward, update the qTable\n",
    "        \n",
    "    for step in range(max_steps): # max_steps is arbitrary - it could be set to 1,000,000 but if our agent has maximized the\n",
    "        # reward signal the episode will end in very few steps.\n",
    "        \n",
    "        # Visualize the environment\n",
    "        if episode is 0: # to limit scrolling in the output, we are only rendering the steps in the first episode\n",
    "            env.render()\n",
    "        \n",
    "        # ************* Step One ***********************************************************************************\n",
    "        # Make an Observation/ receive state information from the environment **************************************\n",
    "        \n",
    "        # because we are within a for loop, the first (step one) observation\\state info has been established by the\n",
    "        # \"state = env.reset()\" code above, prior to entering this loop\n",
    "        \n",
    "        # **********************************************************************************************************\n",
    "        \n",
    "        # ************* Step Two ***********************************************************************************\n",
    "        # Choose an action that will maximize expected future reward  **********************************************\n",
    "        # In our case will will choose the max value from the row in the QTable corresponding to our current state\n",
    "        action = np.argmax(qtable[state, :])\n",
    "        \n",
    "        # **********************************************************************************************************\n",
    "        \n",
    "        # *************  Step Three ********************************************************************************\n",
    "        # Take the action (a) and observe the outcome state(s') and reward (r) *************************************\n",
    "        \n",
    "        new_state, reward, done, info = env.step(action)\n",
    "\n",
    "        total_rewards += reward\n",
    "\n",
    "        # **********************************************************************************************************\n",
    "        \n",
    "        if done:\n",
    "            rewards.append(total_rewards)\n",
    "            steps.append(step)\n",
    "            print(\"Episode {} complete!\".format(episode))\n",
    "            print(\"Completed in {} steps with a reward of {}\".format(step, total_rewards))\n",
    "            break\n",
    "        \n",
    "        # ************* Step One ***********************************************************************************\n",
    "        # Make an Observation/ receive state information from the environment **************************************\n",
    "        # because we are in a for-loop, the following command can be considered part of Step One\n",
    "        \n",
    "        state = new_state\n",
    "        # what was once the new or next state is now the current state and the agent-environment loop repeats\n",
    "        \n",
    "        # **********************************************************************************************************\n",
    "env.close()\n",
    "\n",
    "print(\"\\n All test episodes complete:\")\n",
    "print(\"Average number of steps per episode: {} average reward [score]: {}\".format(sum(steps)/total_test_episodes, \n",
    "                                                                                      sum(rewards)/total_test_episodes))\n",
    "\n",
    "# In the output window below you will see a rendering of each step of the first episode so you can track the starting point\n",
    "# and progress of your agent through the environment as it picks up and drops off the passenger."
   ]
  },
  {
   "cell_type": "markdown",
   "metadata": {},
   "source": [
    "We stored a bit of information while we trained, lets review that now.\n",
    "Specifically, let's look at the rate of epsilon reduction in our greedy-epsilon implementation "
   ]
  },
  {
   "cell_type": "code",
   "execution_count": 42,
   "metadata": {},
   "outputs": [
    {
     "data": {
      "image/png": "[encoded data removed]",
      "text/plain": [
       "<Figure size 432x288 with 1 Axes>"
      ]
     },
     "metadata": {},
     "output_type": "display_data"
    }
   ],
   "source": [
    "%matplotlib inline\n",
    "\n",
    "\n",
    "plt.plot(epsilontrackers)\n",
    "plt.ylabel('Epsilon')\n",
    "plt.show()"
   ]
  },
  {
   "cell_type": "markdown",
   "metadata": {},
   "source": [
    "Now lets look at the the agent's choice to explore or exploit.  \n",
    "Explore = blue\n",
    "Exploit = green"
   ]
  },
  {
   "cell_type": "code",
   "execution_count": 48,
   "metadata": {},
   "outputs": [
    {
     "data": {
      "image/png": "[encoded data removed]",
      "text/plain": [
       "<Figure size 432x288 with 1 Axes>"
      ]
     },
     "metadata": {},
     "output_type": "display_data"
    }
   ],
   "source": [
    "plt.plot(explore_tracker, 'b', exploit_tracker, 'g')\n",
    "plt.annotate('less exploring and more exploiting', xy=(112000, 50000), xytext=(125000, 125000),\n",
    "            arrowprops=dict(facecolor='black', shrink=0.05),\n",
    "            )\n",
    "plt.show()"
   ]
  },
  {
   "cell_type": "markdown",
   "metadata": {},
   "source": [
    "Let's revisit the qTable and see how it looks:"
   ]
  },
  {
   "cell_type": "code",
   "execution_count": 49,
   "metadata": {},
   "outputs": [
    {
     "data": {
      "text/plain": [
       "array([[  0.        ,   0.        ,   0.        ,   0.        ,\n",
       "          0.        ,   0.        ],\n",
       "       [ -2.32039715,  -2.13656497,  -2.32039715,  -2.13656497,\n",
       "         -1.83910189, -11.13656497],\n",
       "       [ -1.83910189,  -1.35777005,  -1.83910189,  -1.35777005,\n",
       "         -0.57891593, -10.35777005],\n",
       "       ...,\n",
       "       [ -0.57891593,   0.6813658 ,  -0.57891593,  -1.35777005,\n",
       "         -9.57891593,  -9.57891593],\n",
       "       [ -2.32168462,  -2.13854509,  -2.33686835,  -2.13656497,\n",
       "        -11.33298685, -11.32302683],\n",
       "       [  6.02048   ,   2.72065664,   6.02048   ,  11.36      ,\n",
       "         -2.97952   ,  -2.97952   ]])"
      ]
     },
     "execution_count": 49,
     "metadata": {},
     "output_type": "execute_result"
    }
   ],
   "source": [
    "qtable"
   ]
  },
  {
   "cell_type": "markdown",
   "metadata": {},
   "source": [
    "What's left to do?  Here are some questions to think about while reflecting on this notebook:\n",
    "\n",
    "-  If you wanted to persist this agent to use later - how would you save it?\n",
    "-  We can optimize training with a more accurate value for the number of episodes required to train - how do we get a more accurate estimate for number of epsiodes needed?\n"
   ]
  }
 ],
 "metadata": {
  "kernelspec": {
   "display_name": "Python 3",
   "language": "python",
   "name": "python3"
  },
  "language_info": {
   "codemirror_mode": {
    "name": "ipython",
    "version": 3
   },
   "file_extension": ".py",
   "mimetype": "text/x-python",
   "name": "python",
   "nbconvert_exporter": "python",
   "pygments_lexer": "ipython3",
   "version": "3.6.5"
  }
 },
 "nbformat": 4,
 "nbformat_minor": 2
}
